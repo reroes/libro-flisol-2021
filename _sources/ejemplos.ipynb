{
 "cells": [
  {
   "cell_type": "markdown",
   "id": "44bd6209",
   "metadata": {},
   "source": [
    "Ejemplos Python\n",
    "============================\n",
    "\n",
    "This is a small sample book to give you a feel for how book content is\n",
    "structured.\n",
    "\n",
    "Check out the content pages bundled with this sample book to get started."
   ]
  },
  {
   "cell_type": "code",
   "execution_count": 1,
   "id": "5981f231",
   "metadata": {},
   "outputs": [
    {
     "name": "stdout",
     "output_type": "stream",
     "text": [
      "Here is some code to execute\n"
     ]
    }
   ],
   "source": [
    "print(\"Here is some code to execute\")"
   ]
  }
 ],
 "metadata": {
  "jupytext": {
   "cell_metadata_filter": "-all",
   "formats": "md:myst",
   "text_representation": {
    "extension": ".md",
    "format_name": "myst",
    "format_version": 0.13,
    "jupytext_version": "1.10.3"
   }
  },
  "kernelspec": {
   "display_name": "Python 3",
   "language": "python",
   "name": "python3"
  },
  "language_info": {
   "codemirror_mode": {
    "name": "ipython",
    "version": 3
   },
   "file_extension": ".py",
   "mimetype": "text/x-python",
   "name": "python",
   "nbconvert_exporter": "python",
   "pygments_lexer": "ipython3",
   "version": "3.7.10"
  },
  "source_map": [
   14,
   25
  ]
 },
 "nbformat": 4,
 "nbformat_minor": 5
}