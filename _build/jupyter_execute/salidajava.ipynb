{
 "cells": [
  {
   "cell_type": "markdown",
   "id": "fa3fc0be",
   "metadata": {},
   "source": [
    "Ejemplos Java\n",
    "============================"
   ]
  },
  {
   "cell_type": "code",
   "execution_count": 1,
   "id": "a7160169",
   "metadata": {},
   "outputs": [
    {
     "name": "stdout",
     "output_type": "stream",
     "text": [
      "Here is some code to execute"
     ]
    },
    {
     "name": "stdout",
     "output_type": "stream",
     "text": [
      "\n"
     ]
    }
   ],
   "source": [
    "System.out.println(\"Here is some code to execute\")"
   ]
  }
 ],
 "metadata": {
  "jupytext": {
   "cell_metadata_filter": "-all",
   "formats": "md:myst",
   "text_representation": {
    "extension": ".md",
    "format_name": "myst",
    "format_version": 0.13,
    "jupytext_version": "1.10.3"
   }
  },
  "kernelspec": {
   "display_name": "Java",
   "language": "java",
   "name": "java"
  },
  "language_info": {
   "codemirror_mode": "java",
   "file_extension": ".jshell",
   "mimetype": "text/x-java-source",
   "name": "Java",
   "pygments_lexer": "java",
   "version": "11.0.10+9-Ubuntu-0ubuntu1.18.04"
  },
  "source_map": [
   14,
   20
  ]
 },
 "nbformat": 4,
 "nbformat_minor": 5
}