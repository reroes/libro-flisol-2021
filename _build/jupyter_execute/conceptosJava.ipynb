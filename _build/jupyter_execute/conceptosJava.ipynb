{
 "cells": [
  {
   "cell_type": "markdown",
   "id": "03b63efe",
   "metadata": {},
   "source": [
    "# Contenido Java\n"
   ]
  },
  {
   "cell_type": "code",
   "execution_count": 1,
   "id": "47bde72f",
   "metadata": {},
   "outputs": [],
   "source": [
    "int v = 10;"
   ]
  },
  {
   "cell_type": "code",
   "execution_count": 2,
   "id": "048f4cfc",
   "metadata": {},
   "outputs": [],
   "source": [
    "public class Evento{\n",
    "    \n",
    "    String name;\n",
    "    String tipo;\n",
    "    \n",
    "    public Evento(String n, String t){\n",
    "        name = n;\n",
    "        tipo = t;\n",
    "    }\n",
    "    \n",
    "    public String toString(){\n",
    "        return String.format(\"Evento: name:%s - tipo:%s\", name, tipo);\n",
    "    }\n",
    "}"
   ]
  },
  {
   "cell_type": "code",
   "execution_count": 3,
   "id": "f802f782",
   "metadata": {},
   "outputs": [
    {
     "name": "stdout",
     "output_type": "stream",
     "text": [
      "Evento: name:Flisol - 2021 - tipo:gratuito"
     ]
    },
    {
     "name": "stdout",
     "output_type": "stream",
     "text": [
      "\n"
     ]
    }
   ],
   "source": [
    "String nombre = \"Flisol - 2021\";\n",
    "String tipo = \"gratuito\";\n",
    "\n",
    "Evento evento = new Evento(nombre, tipo);\n",
    "System.out.println(evento);"
   ]
  }
 ],
 "metadata": {
  "kernelspec": {
   "display_name": "Java",
   "language": "java",
   "name": "java"
  },
  "language_info": {
   "codemirror_mode": "java",
   "file_extension": ".jshell",
   "mimetype": "text/x-java-source",
   "name": "Java",
   "pygments_lexer": "java",
   "version": "11.0.10+9-Ubuntu-0ubuntu1.18.04"
  }
 },
 "nbformat": 4,
 "nbformat_minor": 5
}