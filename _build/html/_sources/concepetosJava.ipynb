{
 "cells": [
  {
   "cell_type": "code",
   "execution_count": 4,
   "id": "0be104f5",
   "metadata": {},
   "outputs": [],
   "source": [
    "int v = 10;"
   ]
  },
  {
   "cell_type": "code",
   "execution_count": 6,
   "id": "048f4cfc",
   "metadata": {},
   "outputs": [
    {
     "name": "stdout",
     "output_type": "stream",
     "text": [
      "10"
     ]
    },
    {
     "data": {
      "text/plain": [
       "java.io.PrintStream@7b6dc6fa"
      ]
     },
     "execution_count": 6,
     "metadata": {},
     "output_type": "execute_result"
    }
   ],
   "source": [
    "System.out.printf(\"%d\", v)"
   ]
  },
  {
   "cell_type": "code",
   "execution_count": 8,
   "id": "f802f782",
   "metadata": {},
   "outputs": [
    {
     "name": "stdout",
     "output_type": "stream",
     "text": [
      "0\n",
      "1\n",
      "2\n",
      "3\n",
      "4\n",
      "5\n",
      "6\n",
      "7\n",
      "8\n",
      "9\n",
      "10\n"
     ]
    }
   ],
   "source": [
    "for(int i=0; i<=10; i++){\n",
    "    printf(\"%d\\n\", i);\n",
    "}"
   ]
  }
 ],
 "metadata": {
  "kernelspec": {
   "display_name": "Java",
   "language": "java",
   "name": "java"
  },
  "language_info": {
   "codemirror_mode": "java",
   "file_extension": ".jshell",
   "mimetype": "text/x-java-source",
   "name": "Java",
   "pygments_lexer": "java",
   "version": "11.0.10+9-Ubuntu-0ubuntu1.18.04"
  }
 },
 "nbformat": 4,
 "nbformat_minor": 5
}
